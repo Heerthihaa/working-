{
 "cells": [
  {
   "cell_type": "code",
   "execution_count": 1,
   "id": "0988c21d",
   "metadata": {},
   "outputs": [],
   "source": [
    "import nltk"
   ]
  },
  {
   "cell_type": "code",
   "execution_count": 7,
   "id": "e85d87e9",
   "metadata": {},
   "outputs": [
    {
     "name": "stderr",
     "output_type": "stream",
     "text": [
      "[nltk_data] Downloading package wordnet to\n",
      "[nltk_data]     C:\\Users\\hp\\AppData\\Roaming\\nltk_data...\n",
      "[nltk_data]   Package wordnet is already up-to-date!\n"
     ]
    },
    {
     "data": {
      "text/plain": [
       "True"
      ]
     },
     "execution_count": 7,
     "metadata": {},
     "output_type": "execute_result"
    }
   ],
   "source": [
    "nltk.download('wordnet')"
   ]
  },
  {
   "cell_type": "code",
   "execution_count": 8,
   "id": "58ed02bb",
   "metadata": {},
   "outputs": [],
   "source": [
    "#WordNet Lemmatizer\n",
    "from nltk.stem import WordNetLemmatizer"
   ]
  },
  {
   "cell_type": "code",
   "execution_count": 9,
   "id": "c011c1ff",
   "metadata": {},
   "outputs": [],
   "source": [
    "lemmatizer= WordNetLemmatizer()"
   ]
  },
  {
   "cell_type": "code",
   "execution_count": 10,
   "id": "38f4443c",
   "metadata": {},
   "outputs": [
    {
     "name": "stdout",
     "output_type": "stream",
     "text": [
      "dy\n"
     ]
    }
   ],
   "source": [
    "print(lemmatizer.lemmatize('dies'))"
   ]
  },
  {
   "cell_type": "code",
   "execution_count": 11,
   "id": "6dc34835",
   "metadata": {},
   "outputs": [
    {
     "name": "stdout",
     "output_type": "stream",
     "text": [
      "monkey\n"
     ]
    }
   ],
   "source": [
    "print(lemmatizer.lemmatize('monkey'))"
   ]
  },
  {
   "cell_type": "code",
   "execution_count": 12,
   "id": "107416b7",
   "metadata": {},
   "outputs": [
    {
     "name": "stdout",
     "output_type": "stream",
     "text": [
      "donkey\n"
     ]
    }
   ],
   "source": [
    "print(lemmatizer.lemmatize('donkey'))"
   ]
  },
  {
   "cell_type": "code",
   "execution_count": 13,
   "id": "ef30821b",
   "metadata": {},
   "outputs": [
    {
     "name": "stdout",
     "output_type": "stream",
     "text": [
      "washing\n"
     ]
    }
   ],
   "source": [
    "print(lemmatizer.lemmatize('washing'))"
   ]
  },
  {
   "cell_type": "code",
   "execution_count": 14,
   "id": "824caa31",
   "metadata": {},
   "outputs": [
    {
     "name": "stdout",
     "output_type": "stream",
     "text": [
      "agreed\n"
     ]
    }
   ],
   "source": [
    "print(lemmatizer.lemmatize('agreed'))"
   ]
  },
  {
   "cell_type": "code",
   "execution_count": 15,
   "id": "e55ca9c1",
   "metadata": {},
   "outputs": [
    {
     "name": "stdout",
     "output_type": "stream",
     "text": [
      "humbled\n"
     ]
    }
   ],
   "source": [
    "print(lemmatizer.lemmatize('humbled'))"
   ]
  },
  {
   "cell_type": "code",
   "execution_count": 16,
   "id": "5a65c659",
   "metadata": {},
   "outputs": [],
   "source": [
    "from nltk.tokenize import word_tokenize"
   ]
  },
  {
   "cell_type": "code",
   "execution_count": 17,
   "id": "8681c009",
   "metadata": {},
   "outputs": [],
   "source": [
    "#Sentence into words\n",
    "sentence=\"Slowly carrying the full cups into the living room, she handed one to Alex.\""
   ]
  },
  {
   "cell_type": "code",
   "execution_count": 18,
   "id": "8e4f5631",
   "metadata": {},
   "outputs": [],
   "source": [
    "words=nltk.word_tokenize(sentence)"
   ]
  },
  {
   "cell_type": "code",
   "execution_count": 19,
   "id": "cef715a2",
   "metadata": {},
   "outputs": [],
   "source": [
    "lemmatizer = WordNetLemmatizer()"
   ]
  },
  {
   "cell_type": "code",
   "execution_count": 20,
   "id": "43a6f290",
   "metadata": {},
   "outputs": [
    {
     "data": {
      "text/plain": [
       "['Slowly',\n",
       " 'carrying',\n",
       " 'the',\n",
       " 'full',\n",
       " 'cups',\n",
       " 'into',\n",
       " 'the',\n",
       " 'living',\n",
       " 'room',\n",
       " ',',\n",
       " 'she',\n",
       " 'handed',\n",
       " 'one',\n",
       " 'to',\n",
       " 'Alex',\n",
       " '.']"
      ]
     },
     "execution_count": 20,
     "metadata": {},
     "output_type": "execute_result"
    }
   ],
   "source": [
    "words"
   ]
  },
  {
   "cell_type": "code",
   "execution_count": 21,
   "id": "57e48b38",
   "metadata": {},
   "outputs": [],
   "source": [
    "Lemmation = ' '.join([lemmatizer.lemmatize(x) for x in words])"
   ]
  },
  {
   "cell_type": "code",
   "execution_count": 22,
   "id": "5ab55338",
   "metadata": {},
   "outputs": [
    {
     "data": {
      "text/plain": [
       "'Slowly carrying the full cup into the living room , she handed one to Alex .'"
      ]
     },
     "execution_count": 22,
     "metadata": {},
     "output_type": "execute_result"
    }
   ],
   "source": [
    "Lemmation"
   ]
  },
  {
   "cell_type": "code",
   "execution_count": null,
   "id": "ea6090fe",
   "metadata": {},
   "outputs": [],
   "source": []
  }
 ],
 "metadata": {
  "kernelspec": {
   "display_name": "Python 3 (ipykernel)",
   "language": "python",
   "name": "python3"
  },
  "language_info": {
   "codemirror_mode": {
    "name": "ipython",
    "version": 3
   },
   "file_extension": ".py",
   "mimetype": "text/x-python",
   "name": "python",
   "nbconvert_exporter": "python",
   "pygments_lexer": "ipython3",
   "version": "3.9.12"
  }
 },
 "nbformat": 4,
 "nbformat_minor": 5
}
