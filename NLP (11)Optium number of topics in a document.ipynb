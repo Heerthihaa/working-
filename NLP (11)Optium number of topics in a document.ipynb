{
 "cells": [
  {
   "cell_type": "code",
   "execution_count": 76,
   "id": "3333d652",
   "metadata": {},
   "outputs": [],
   "source": [
    "#importing libraries\n",
    "import gensim\n",
    "from gensim.utils import simple_preprocess\n",
    "from gensim.parsing.preprocessing import STOPWORDS"
   ]
  },
  {
   "cell_type": "code",
   "execution_count": 77,
   "id": "08c253d8",
   "metadata": {},
   "outputs": [],
   "source": [
    "import nltk\n",
    "import sklearn"
   ]
  },
  {
   "cell_type": "code",
   "execution_count": 78,
   "id": "9cf25581",
   "metadata": {},
   "outputs": [],
   "source": [
    "from nltk.stem import WordNetLemmatizer,SnowballStemmer\n",
    "from nltk.stem.porter import*\n",
    "import numpy as np\n",
    "np.random.seed(400)"
   ]
  },
  {
   "cell_type": "code",
   "execution_count": 79,
   "id": "50bfefa7",
   "metadata": {},
   "outputs": [],
   "source": [
    "#Loading the data\n",
    "from sklearn.datasets import fetch_20newsgroups"
   ]
  },
  {
   "cell_type": "code",
   "execution_count": 115,
   "id": "9a7301f8",
   "metadata": {},
   "outputs": [],
   "source": [
    "newsgroups_train=fetch_20newsgroups(subset='train',shuffle=True)\n",
    "newsgroups_test=fetch_20newsgroups(subset='test',shuffle=True)"
   ]
  },
  {
   "cell_type": "code",
   "execution_count": 116,
   "id": "726ae08f",
   "metadata": {},
   "outputs": [
    {
     "name": "stdout",
     "output_type": "stream",
     "text": [
      "['alt.atheism', 'comp.graphics', 'comp.os.ms-windows.misc', 'comp.sys.ibm.pc.hardware', 'comp.sys.mac.hardware', 'comp.windows.x', 'misc.forsale', 'rec.autos', 'rec.motorcycles', 'rec.sport.baseball', 'rec.sport.hockey', 'sci.crypt', 'sci.electronics', 'sci.med', 'sci.space', 'soc.religion.christian', 'talk.politics.guns', 'talk.politics.mideast', 'talk.politics.misc', 'talk.religion.misc']\n"
     ]
    }
   ],
   "source": [
    "print(list(newsgroups_train.target_names))"
   ]
  },
  {
   "cell_type": "code",
   "execution_count": 117,
   "id": "ba0c3aeb",
   "metadata": {},
   "outputs": [],
   "source": [
    "#Preprocessing\n",
    "document_num=50\n",
    "doc_sample='This disk has failed many times i woukd like to get it replaced'"
   ]
  },
  {
   "cell_type": "code",
   "execution_count": 118,
   "id": "9f0e83df",
   "metadata": {},
   "outputs": [
    {
     "name": "stdout",
     "output_type": "stream",
     "text": [
      "Original document:\n"
     ]
    }
   ],
   "source": [
    "print(\"Original document:\")"
   ]
  },
  {
   "cell_type": "code",
   "execution_count": 119,
   "id": "dbe37955",
   "metadata": {},
   "outputs": [],
   "source": [
    "words=[]"
   ]
  },
  {
   "cell_type": "code",
   "execution_count": 120,
   "id": "6dcca6e8",
   "metadata": {},
   "outputs": [],
   "source": [
    "for word in doc_sample.split(' '):\n",
    "    words.append(word)"
   ]
  },
  {
   "cell_type": "code",
   "execution_count": 121,
   "id": "8558fdb8",
   "metadata": {},
   "outputs": [
    {
     "name": "stdout",
     "output_type": "stream",
     "text": [
      "['This', 'disk', 'has', 'failed', 'many', 'times', 'i', 'woukd', 'like', 'to', 'get', 'it', 'replaced']\n"
     ]
    }
   ],
   "source": [
    "print(words)"
   ]
  },
  {
   "cell_type": "code",
   "execution_count": 122,
   "id": "0d05cf59",
   "metadata": {},
   "outputs": [
    {
     "name": "stdout",
     "output_type": "stream",
     "text": [
      "\n",
      "\n",
      "Tokenized and lemmatized document\n"
     ]
    }
   ],
   "source": [
    "print(\"\\n\\nTokenized and lemmatized document\")"
   ]
  },
  {
   "cell_type": "code",
   "execution_count": 123,
   "id": "ad70a567",
   "metadata": {},
   "outputs": [],
   "source": [
    "processed_data=simple_preprocess(doc_sample)"
   ]
  },
  {
   "cell_type": "code",
   "execution_count": 124,
   "id": "53d0d3f2",
   "metadata": {},
   "outputs": [
    {
     "name": "stdout",
     "output_type": "stream",
     "text": [
      "[['this', 'disk', 'has', 'failed', 'many', 'times', 'woukd', 'like', 'to', 'get', 'it', 'replaced']]\n"
     ]
    }
   ],
   "source": [
    "processed_docs = []\n",
    "processed_docs.append(simple_preprocess(doc_sample))\n",
    "'''\n",
    "Preview 'processed_docs'\n",
    "'''\n",
    "print(processed_docs[:2])"
   ]
  },
  {
   "cell_type": "code",
   "execution_count": 125,
   "id": "6da70445",
   "metadata": {},
   "outputs": [
    {
     "name": "stdout",
     "output_type": "stream",
     "text": [
      "0 replaced\n"
     ]
    }
   ],
   "source": [
    "#Bag of Words\n",
    "count = 0\n",
    "for k, v in dictionary.iteritems():\n",
    "    print(k, v)\n",
    "    count += 1\n",
    "    if count > 10:\n",
    "        break"
   ]
  },
  {
   "cell_type": "code",
   "execution_count": 126,
   "id": "b3aa2958",
   "metadata": {},
   "outputs": [
    {
     "data": {
      "text/plain": [
       "<function gensim.corpora.dictionary.Dictionary.doc2bow(self, document, allow_update=False, return_missing=False)>"
      ]
     },
     "execution_count": 126,
     "metadata": {},
     "output_type": "execute_result"
    }
   ],
   "source": [
    "gensim.corpora.Dictionary.doc2bow"
   ]
  },
  {
   "cell_type": "code",
   "execution_count": 127,
   "id": "0d780371",
   "metadata": {},
   "outputs": [],
   "source": [
    "bow_corpus = [dictionary.doc2bow(doc) for doc in processed_docs]"
   ]
  },
  {
   "cell_type": "code",
   "execution_count": 128,
   "id": "5125596b",
   "metadata": {},
   "outputs": [],
   "source": [
    "#Applying LDA\n",
    "lda_model = gensim.models.LdaMulticore(bow_corpus, \n",
    " num_topics = 8, \n",
    " id2word = dictionary, \n",
    " passes = 10,\n",
    " workers = 2)"
   ]
  },
  {
   "cell_type": "code",
   "execution_count": 129,
   "id": "b128a6fa",
   "metadata": {},
   "outputs": [
    {
     "name": "stdout",
     "output_type": "stream",
     "text": [
      "Topic: 0 nWords: 1.000*\"replaced\"\n",
      "n\n",
      "Topic: 1 nWords: 1.000*\"replaced\"\n",
      "n\n",
      "Topic: 2 nWords: 1.000*\"replaced\"\n",
      "n\n",
      "Topic: 3 nWords: 1.000*\"replaced\"\n",
      "n\n",
      "Topic: 4 nWords: 1.000*\"replaced\"\n",
      "n\n",
      "Topic: 5 nWords: 1.000*\"replaced\"\n",
      "n\n",
      "Topic: 6 nWords: 1.000*\"replaced\"\n",
      "n\n",
      "Topic: 7 nWords: 1.000*\"replaced\"\n",
      "n\n"
     ]
    }
   ],
   "source": [
    "for idx, topic in lda_model.print_topics(-1):\n",
    "    print(\"Topic: {} nWords: {}\".format(idx, topic ))\n",
    "    print(\"n\")"
   ]
  },
  {
   "cell_type": "code",
   "execution_count": 130,
   "id": "2122afc6",
   "metadata": {},
   "outputs": [
    {
     "name": "stdout",
     "output_type": "stream",
     "text": [
      "From: ranck@joesbar.cc.vt.edu (Wm. L. Ranck)\n",
      "Subject: Re: BMW heated grips\n",
      "Organization: Virginia Tech, Blacksburg, Virginia\n",
      "Lines: 24\n",
      "NNTP-Posting-Host: joesbar.cc.vt.edu\n",
      "X-Newsreader: TIN [version 1.1 PL9]\n",
      "\n",
      "Mark Bergman (bergman@panix.com) wrote:\n",
      "\n",
      ": To those of you who have the BMW heated handgrips:\n",
      "\n",
      ": \tWhat are they like during the summer? Yes, you\n",
      ": \twiseguy, I mean while they are off!\n",
      "\n",
      ": \tAre they comfortable? Do they transmit a lot of\n",
      ": \tvibration? How do they compare to the stock grips?\n",
      ": \tTo foam grips? \n",
      "\n",
      ": Do they really make a difference during the winter?\n",
      "\n",
      "I just got a K75 and had the heated grips installed.  As far as I can\n",
      "tell the grips look and feel the same as the standard grips. \n",
      "They are *not* soft.  Last weekend I did a 500 mile round-trip and\n",
      "got to a point where it was in the 30s and raining.  Those heated\n",
      "grips were *great*.  I've only had the bike a month and the heated\n",
      "grips are already one of my favorite features on the bike.\n",
      "--\n",
      "*******************************************************************************\n",
      "* Bill Ranck             (703) 231-9503                     Bill.Ranck@vt.edu *\n",
      "* Computing Center, Virginia Polytchnic Inst. & State Univ., Blacksburg, Va.  *\n",
      "*******************************************************************************\n",
      "\n"
     ]
    }
   ],
   "source": [
    "#Testing model\n",
    "num = 70\n",
    "unseen_document = newsgroups_test.data[num]\n",
    "print(unseen_document)"
   ]
  },
  {
   "cell_type": "code",
   "execution_count": 136,
   "id": "e059dc0b",
   "metadata": {},
   "outputs": [
    {
     "name": "stdout",
     "output_type": "stream",
     "text": [
      "Score: 0.125t Topic: 1.000*\"replaced\"\n",
      "Score: 0.125t Topic: 1.000*\"replaced\"\n",
      "Score: 0.125t Topic: 1.000*\"replaced\"\n",
      "Score: 0.125t Topic: 1.000*\"replaced\"\n",
      "Score: 0.125t Topic: 1.000*\"replaced\"\n",
      "Score: 0.125t Topic: 1.000*\"replaced\"\n",
      "Score: 0.125t Topic: 1.000*\"replaced\"\n",
      "Score: 0.125t Topic: 1.000*\"replaced\"\n"
     ]
    }
   ],
   "source": [
    "bow_vector = dictionary.doc2bow(simple_preprocess(unseen_document))\n",
    "for index, score in sorted(lda_model[bow_vector], key=lambda tup: -1*tup[1]):\n",
    "    print(\"Score: {}t Topic: {}\".format(score, lda_model.print_topic(index, 5)))"
   ]
  },
  {
   "cell_type": "code",
   "execution_count": 140,
   "id": "c16003e0",
   "metadata": {},
   "outputs": [
    {
     "name": "stdout",
     "output_type": "stream",
     "text": [
      "8\n"
     ]
    }
   ],
   "source": [
    "print(newsgroups_test.target[num])"
   ]
  },
  {
   "cell_type": "code",
   "execution_count": null,
   "id": "0a43931e",
   "metadata": {},
   "outputs": [],
   "source": []
  }
 ],
 "metadata": {
  "kernelspec": {
   "display_name": "Python 3 (ipykernel)",
   "language": "python",
   "name": "python3"
  },
  "language_info": {
   "codemirror_mode": {
    "name": "ipython",
    "version": 3
   },
   "file_extension": ".py",
   "mimetype": "text/x-python",
   "name": "python",
   "nbconvert_exporter": "python",
   "pygments_lexer": "ipython3",
   "version": "3.10.9"
  }
 },
 "nbformat": 4,
 "nbformat_minor": 5
}
