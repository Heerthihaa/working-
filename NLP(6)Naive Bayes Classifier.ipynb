{
 "cells": [
  {
   "cell_type": "code",
   "execution_count": 1,
   "id": "bc68807f",
   "metadata": {},
   "outputs": [],
   "source": [
    "#Importing Libraries\n",
    "import numpy as np\n",
    "import sklearn"
   ]
  },
  {
   "cell_type": "code",
   "execution_count": 2,
   "id": "d333dbff",
   "metadata": {},
   "outputs": [],
   "source": [
    "from sklearn.datasets import fetch_20newsgroups"
   ]
  },
  {
   "cell_type": "code",
   "execution_count": 3,
   "id": "f381a7b3",
   "metadata": {},
   "outputs": [],
   "source": [
    "from sklearn.feature_extraction.text import CountVectorizer "
   ]
  },
  {
   "cell_type": "code",
   "execution_count": 4,
   "id": "19978903",
   "metadata": {},
   "outputs": [],
   "source": [
    "from sklearn.feature_extraction.text import TfidfTransformer"
   ]
  },
  {
   "cell_type": "code",
   "execution_count": 6,
   "id": "da13b76a",
   "metadata": {},
   "outputs": [],
   "source": [
    "from sklearn.naive_bayes import MultinomialNB\n",
    "from sklearn.pipeline import Pipeline"
   ]
  },
  {
   "cell_type": "code",
   "execution_count": 7,
   "id": "48b4021e",
   "metadata": {},
   "outputs": [],
   "source": [
    "#Loading the dataset\n",
    "from sklearn.datasets import fetch_20newsgroups"
   ]
  },
  {
   "cell_type": "code",
   "execution_count": 8,
   "id": "1d7e64bb",
   "metadata": {},
   "outputs": [
    {
     "data": {
      "text/plain": [
       "<function sklearn.datasets._twenty_newsgroups.fetch_20newsgroups(*, data_home=None, subset='train', categories=None, shuffle=True, random_state=42, remove=(), download_if_missing=True, return_X_y=False)>"
      ]
     },
     "execution_count": 8,
     "metadata": {},
     "output_type": "execute_result"
    }
   ],
   "source": [
    "fetch_20newsgroups"
   ]
  },
  {
   "cell_type": "code",
   "execution_count": 11,
   "id": "dd14e0b6",
   "metadata": {},
   "outputs": [],
   "source": [
    "#Preprocessing\n",
    "categories=['rec.motorcycles','sci.electronics','comp.graphics','sci.med']"
   ]
  },
  {
   "cell_type": "code",
   "execution_count": 12,
   "id": "e438ef87",
   "metadata": {},
   "outputs": [],
   "source": [
    "train_data=fetch_20newsgroups(subset='train',categories=categories,shuffle=True,random_state=42)"
   ]
  },
  {
   "cell_type": "code",
   "execution_count": 13,
   "id": "67fb2ea7",
   "metadata": {},
   "outputs": [
    {
     "data": {
      "text/plain": [
       "['comp.graphics', 'rec.motorcycles', 'sci.electronics', 'sci.med']"
      ]
     },
     "execution_count": 13,
     "metadata": {},
     "output_type": "execute_result"
    }
   ],
   "source": [
    "train_data.target_names"
   ]
  },
  {
   "cell_type": "code",
   "execution_count": 19,
   "id": "7de2b46f",
   "metadata": {},
   "outputs": [
    {
     "data": {
      "text/plain": [
       "'comp.graphics'"
      ]
     },
     "execution_count": 19,
     "metadata": {},
     "output_type": "execute_result"
    }
   ],
   "source": [
    "train_data.target_names[train_data.target[0]]"
   ]
  },
  {
   "cell_type": "code",
   "execution_count": 30,
   "id": "51b934a1",
   "metadata": {},
   "outputs": [
    {
     "name": "stdout",
     "output_type": "stream",
     "text": [
      "comp.graphics\n",
      "comp.graphics\n",
      "rec.motorcycles\n",
      "comp.graphics\n",
      "sci.med\n",
      "sci.electronics\n",
      "sci.electronics\n",
      "comp.graphics\n",
      "rec.motorcycles\n",
      "sci.electronics\n"
     ]
    }
   ],
   "source": [
    "for t in train_data.target[:10]:\n",
    "    print(train_data.target_names[t])"
   ]
  },
  {
   "cell_type": "code",
   "execution_count": 32,
   "id": "6d0853be",
   "metadata": {},
   "outputs": [],
   "source": [
    "count_vect=CountVectorizer()\n",
    "x_train_counts=count_vect.fit_transform(train_data.data)"
   ]
  },
  {
   "cell_type": "code",
   "execution_count": 33,
   "id": "0a1b1416",
   "metadata": {},
   "outputs": [],
   "source": [
    "tfidf_transformer=TfidfTransformer()\n",
    "x_train_tfidf=tfidf_transformer.fit_transform(x_train_counts)"
   ]
  },
  {
   "cell_type": "code",
   "execution_count": 34,
   "id": "4b82b766",
   "metadata": {},
   "outputs": [],
   "source": [
    "#Buliding the model\n",
    "df=MultinomialNB().fit(x_train_tfidf,train_data.target)"
   ]
  },
  {
   "cell_type": "code",
   "execution_count": 35,
   "id": "c6bf8d97",
   "metadata": {},
   "outputs": [],
   "source": [
    "docs_new=[\"The hardness have been increaseing when the amount of binder is increased\"]"
   ]
  },
  {
   "cell_type": "code",
   "execution_count": 37,
   "id": "6112ef30",
   "metadata": {},
   "outputs": [],
   "source": [
    "X_new_counts=count_vect.transform(docs_new)\n",
    "X_new_tfidf= tfidf_transformer.transform(X_new_counts)"
   ]
  },
  {
   "cell_type": "code",
   "execution_count": 39,
   "id": "0b343bbb",
   "metadata": {},
   "outputs": [],
   "source": [
    "predicted = df.predict(X_new_tfidf)"
   ]
  },
  {
   "cell_type": "code",
   "execution_count": 41,
   "id": "69322d57",
   "metadata": {},
   "outputs": [
    {
     "name": "stdout",
     "output_type": "stream",
     "text": [
      "The hardness have been increaseing when the amount of binder is increased sci.med\n"
     ]
    }
   ],
   "source": [
    "for doc, category in zip(docs_new,predicted):\n",
    "    print(doc,train_data.target_names[category])"
   ]
  },
  {
   "cell_type": "code",
   "execution_count": 42,
   "id": "c8f7e4be",
   "metadata": {},
   "outputs": [],
   "source": [
    "#Predict the Accuracy\n",
    "text_df=Pipeline([\n",
    "    ('vect',CountVectorizer()),\n",
    "    ('tfidf',TfidfTransformer()),\n",
    "    ('clf',MultinomialNB())\n",
    "])"
   ]
  },
  {
   "cell_type": "code",
   "execution_count": 43,
   "id": "ba3765a6",
   "metadata": {},
   "outputs": [],
   "source": [
    "text_df.fit(train_data.data,train_data.target)\n",
    "test_data=fetch_20newsgroups(subset='test',categories=categories,shuffle=True,random_state=42)"
   ]
  },
  {
   "cell_type": "code",
   "execution_count": 48,
   "id": "cfe91e26",
   "metadata": {},
   "outputs": [
    {
     "name": "stdout",
     "output_type": "stream",
     "text": [
      "91.49746192893402\n"
     ]
    }
   ],
   "source": [
    "docs_test=test_data.data\n",
    "predicted = text_df.predict(docs_test)\n",
    "print(np.mean(predicted==test_data.target)*100)"
   ]
  },
  {
   "cell_type": "code",
   "execution_count": null,
   "id": "6ce611d0",
   "metadata": {},
   "outputs": [],
   "source": []
  }
 ],
 "metadata": {
  "kernelspec": {
   "display_name": "Python 3 (ipykernel)",
   "language": "python",
   "name": "python3"
  },
  "language_info": {
   "codemirror_mode": {
    "name": "ipython",
    "version": 3
   },
   "file_extension": ".py",
   "mimetype": "text/x-python",
   "name": "python",
   "nbconvert_exporter": "python",
   "pygments_lexer": "ipython3",
   "version": "3.9.12"
  }
 },
 "nbformat": 4,
 "nbformat_minor": 5
}
