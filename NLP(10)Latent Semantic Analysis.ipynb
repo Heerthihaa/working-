{
 "cells": [
  {
   "cell_type": "code",
   "execution_count": 3,
   "id": "44827874",
   "metadata": {},
   "outputs": [],
   "source": [
    "#importing The libraries\n",
    "import sklearn\n",
    "from sklearn.decomposition import TruncatedSVD\n",
    "from sklearn.metrics.pairwise import cosine_similarity\n",
    "import numpy as np\n",
    "from numpy import argsort"
   ]
  },
  {
   "cell_type": "code",
   "execution_count": 4,
   "id": "e89f6901",
   "metadata": {},
   "outputs": [
    {
     "name": "stdout",
     "output_type": "stream",
     "text": [
      "Requirement already satisfied: spicy in c:\\users\\hp\\anaconda3\\lib\\site-packages (0.16.0)\n",
      "Requirement already satisfied: scipy in c:\\users\\hp\\anaconda3\\lib\\site-packages (from spicy) (1.11.3)\n",
      "Requirement already satisfied: numpy<1.28.0,>=1.21.6 in c:\\users\\hp\\anaconda3\\lib\\site-packages (from scipy->spicy) (1.22.4)\n"
     ]
    }
   ],
   "source": [
    "!pip install spicy"
   ]
  },
  {
   "cell_type": "code",
   "execution_count": 5,
   "id": "2af15161",
   "metadata": {},
   "outputs": [],
   "source": [
    "import spicy"
   ]
  },
  {
   "cell_type": "code",
   "execution_count": 6,
   "id": "1b07d0e6",
   "metadata": {},
   "outputs": [],
   "source": [
    "import scipy.sparse as sp\n",
    "from scipy.sparse import rand"
   ]
  },
  {
   "cell_type": "code",
   "execution_count": 9,
   "id": "ab8a48c9",
   "metadata": {},
   "outputs": [
    {
     "name": "stdout",
     "output_type": "stream",
     "text": [
      "A.shape:(150, 100)\n"
     ]
    }
   ],
   "source": [
    "#Generate a random binary Query\n",
    "A=rand(150,100,density=0.3,format='csr')\n",
    "A.data[:]=1\n",
    "print(\"A.shape:\"+str(A.shape))"
   ]
  },
  {
   "cell_type": "code",
   "execution_count": 13,
   "id": "dbaa30c0",
   "metadata": {},
   "outputs": [
    {
     "name": "stdout",
     "output_type": "stream",
     "text": [
      "Query shape:(1, 100)\n"
     ]
    }
   ],
   "source": [
    "query=rand(1,100,density=0.3,format='csr')\n",
    "query.data[:]=1\n",
    "print(\"Query shape:\"+str(query.shape))"
   ]
  },
  {
   "cell_type": "code",
   "execution_count": 14,
   "id": "794e5464",
   "metadata": {},
   "outputs": [
    {
     "name": "stdout",
     "output_type": "stream",
     "text": [
      "Approximate A shape:(150, 5)\n"
     ]
    }
   ],
   "source": [
    "#Trunc SVD model\n",
    "trunc_SVD_model=TruncatedSVD(n_components=5)\n",
    "approx_A=trunc_SVD_model.fit_transform(A)\n",
    "print(\"Approximate A shape:\"+str(approx_A.shape))"
   ]
  },
  {
   "cell_type": "code",
   "execution_count": 15,
   "id": "fe810808",
   "metadata": {},
   "outputs": [
    {
     "name": "stdout",
     "output_type": "stream",
     "text": [
      "Transformed query:[[ 2.97961796 -0.33204958 -0.24057513 -0.62596255 -0.6840929 ]]\n",
      "query.shape:(1, 5)\n"
     ]
    }
   ],
   "source": [
    "transformed_query = trunc_SVD_model.transform(query)\n",
    "print(\"Transformed query:\"+str(transformed_query))\n",
    "print(\"query.shape:\"+str(transformed_query.shape))"
   ]
  },
  {
   "cell_type": "code",
   "execution_count": 16,
   "id": "34736a29",
   "metadata": {},
   "outputs": [
    {
     "name": "stdout",
     "output_type": "stream",
     "text": [
      "Similarities shape:(150, 1)\n"
     ]
    }
   ],
   "source": [
    "#Cosine Similarities\n",
    "similarities=cosine_similarity(approx_A,transformed_query)\n",
    "print(\"Similarities shape:\"+str(similarities.shape))"
   ]
  },
  {
   "cell_type": "code",
   "execution_count": 18,
   "id": "938c487f",
   "metadata": {},
   "outputs": [
    {
     "name": "stdout",
     "output_type": "stream",
     "text": [
      "Top n documents:[148 112  50  68  74]\n",
      "Top n similarities:[0.96638309 0.96998932 0.97054762 0.97736389 0.98918319]\n"
     ]
    }
   ],
   "source": [
    "#Output\n",
    "n=5\n",
    "indexes=np.argsort(similarities.flat)[-n:]\n",
    "print(\"Top n documents:\"+str(indexes))\n",
    "print(\"Top n similarities:\"+str(similarities.flat[indexes]))"
   ]
  },
  {
   "cell_type": "code",
   "execution_count": null,
   "id": "f4c316c8",
   "metadata": {},
   "outputs": [],
   "source": []
  }
 ],
 "metadata": {
  "kernelspec": {
   "display_name": "Python 3 (ipykernel)",
   "language": "python",
   "name": "python3"
  },
  "language_info": {
   "codemirror_mode": {
    "name": "ipython",
    "version": 3
   },
   "file_extension": ".py",
   "mimetype": "text/x-python",
   "name": "python",
   "nbconvert_exporter": "python",
   "pygments_lexer": "ipython3",
   "version": "3.9.12"
  }
 },
 "nbformat": 4,
 "nbformat_minor": 5
}
