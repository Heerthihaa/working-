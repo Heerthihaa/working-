{
 "cells": [
  {
   "cell_type": "code",
   "execution_count": 12,
   "id": "ac2858f5",
   "metadata": {},
   "outputs": [
    {
     "name": "stderr",
     "output_type": "stream",
     "text": [
      "[nltk_data] Error loading punct: <urlopen error [WinError 10060] A\n",
      "[nltk_data]     connection attempt failed because the connected party\n",
      "[nltk_data]     did not properly respond after a period of time, or\n",
      "[nltk_data]     established connection failed because connected host\n",
      "[nltk_data]     has failed to respond>\n"
     ]
    },
    {
     "data": {
      "text/plain": [
       "False"
      ]
     },
     "execution_count": 12,
     "metadata": {},
     "output_type": "execute_result"
    }
   ],
   "source": [
    "#Importing the libraries\n",
    "import nltk\n",
    "nltk.download('punct')"
   ]
  },
  {
   "cell_type": "code",
   "execution_count": 13,
   "id": "48a76813",
   "metadata": {},
   "outputs": [
    {
     "name": "stderr",
     "output_type": "stream",
     "text": [
      "[nltk_data] Error loading averaged_ preceptron_tagger: <urlopen error\n",
      "[nltk_data]     [WinError 10060] A connection attempt failed because\n",
      "[nltk_data]     the connected party did not properly respond after a\n",
      "[nltk_data]     period of time, or established connection failed\n",
      "[nltk_data]     because connected host has failed to respond>\n",
      "[nltk_data] Error loading maxent_ne_chunker: <urlopen error [WinError\n",
      "[nltk_data]     10060] A connection attempt failed because the\n",
      "[nltk_data]     connected party did not properly respond after a\n",
      "[nltk_data]     period of time, or established connection failed\n",
      "[nltk_data]     because connected host has failed to respond>\n",
      "[nltk_data] Error loading words: <urlopen error [WinError 10060] A\n",
      "[nltk_data]     connection attempt failed because the connected party\n",
      "[nltk_data]     did not properly respond after a period of time, or\n",
      "[nltk_data]     established connection failed because connected host\n",
      "[nltk_data]     has failed to respond>\n"
     ]
    },
    {
     "data": {
      "text/plain": [
       "False"
      ]
     },
     "execution_count": 13,
     "metadata": {},
     "output_type": "execute_result"
    }
   ],
   "source": [
    "nltk.download(\"averaged_ preceptron_tagger\")\n",
    "nltk.download(\"maxent_ne_chunker\")\n",
    "nltk.download(\"words\")"
   ]
  },
  {
   "cell_type": "code",
   "execution_count": 14,
   "id": "745aa6fc",
   "metadata": {},
   "outputs": [],
   "source": [
    "#Loading the data\n",
    "sentence=\"They've commented on how easy it is to understand sentence structure and write paragraphs because of the lessons. They are now eager to write now vs. the groans and dread from just a few days ago.\""
   ]
  },
  {
   "cell_type": "code",
   "execution_count": 19,
   "id": "61e65047",
   "metadata": {},
   "outputs": [],
   "source": [
    "from nltk.tokenize import word_tokenize\n",
    "from nltk.tag import pos_tag"
   ]
  },
  {
   "cell_type": "code",
   "execution_count": 21,
   "id": "2ca512db",
   "metadata": {},
   "outputs": [],
   "source": [
    "#Tokenize,Pos,Chunk Words\n",
    "def preprocess(sent):\n",
    "    sent = nltk.word_tokenize(sent)\n",
    "    sent = nltk.pos_tag(sent)\n",
    "    return sent"
   ]
  },
  {
   "cell_type": "code",
   "execution_count": 23,
   "id": "22f1c99a",
   "metadata": {},
   "outputs": [
    {
     "data": {
      "text/plain": [
       "[('They', 'PRP'),\n",
       " (\"'ve\", 'VBP'),\n",
       " ('commented', 'VBN'),\n",
       " ('on', 'IN'),\n",
       " ('how', 'WRB'),\n",
       " ('easy', 'JJ'),\n",
       " ('it', 'PRP'),\n",
       " ('is', 'VBZ'),\n",
       " ('to', 'TO'),\n",
       " ('understand', 'VB'),\n",
       " ('sentence', 'NN'),\n",
       " ('structure', 'NN'),\n",
       " ('and', 'CC'),\n",
       " ('write', 'VB'),\n",
       " ('paragraphs', 'NN'),\n",
       " ('because', 'IN'),\n",
       " ('of', 'IN'),\n",
       " ('the', 'DT'),\n",
       " ('lessons', 'NNS'),\n",
       " ('.', '.'),\n",
       " ('They', 'PRP'),\n",
       " ('are', 'VBP'),\n",
       " ('now', 'RB'),\n",
       " ('eager', 'JJ'),\n",
       " ('to', 'TO'),\n",
       " ('write', 'VB'),\n",
       " ('now', 'RB'),\n",
       " ('vs.', 'IN'),\n",
       " ('the', 'DT'),\n",
       " ('groans', 'NNS'),\n",
       " ('and', 'CC'),\n",
       " ('dread', 'NN'),\n",
       " ('from', 'IN'),\n",
       " ('just', 'RB'),\n",
       " ('a', 'DT'),\n",
       " ('few', 'JJ'),\n",
       " ('days', 'NNS'),\n",
       " ('ago', 'RB'),\n",
       " ('.', '.')]"
      ]
     },
     "execution_count": 23,
     "metadata": {},
     "output_type": "execute_result"
    }
   ],
   "source": [
    "sent = preprocess(sentence)\n",
    "sent"
   ]
  },
  {
   "cell_type": "code",
   "execution_count": 25,
   "id": "f135393f",
   "metadata": {},
   "outputs": [
    {
     "name": "stdout",
     "output_type": "stream",
     "text": [
      "(S\n",
      "  They/PRP\n",
      "  've/VBP\n",
      "  commented/VBN\n",
      "  on/IN\n",
      "  how/WRB\n",
      "  easy/JJ\n",
      "  it/PRP\n",
      "  is/VBZ\n",
      "  to/TO\n",
      "  understand/VB\n",
      "  (NP sentence/NN)\n",
      "  (NP structure/NN)\n",
      "  and/CC\n",
      "  write/VB\n",
      "  (NP paragraphs/NN)\n",
      "  because/IN\n",
      "  of/IN\n",
      "  the/DT\n",
      "  lessons/NNS\n",
      "  ./.\n",
      "  They/PRP\n",
      "  are/VBP\n",
      "  now/RB\n",
      "  eager/JJ\n",
      "  to/TO\n",
      "  write/VB\n",
      "  now/RB\n",
      "  vs./IN\n",
      "  the/DT\n",
      "  groans/NNS\n",
      "  and/CC\n",
      "  (NP dread/NN)\n",
      "  from/IN\n",
      "  just/RB\n",
      "  a/DT\n",
      "  few/JJ\n",
      "  days/NNS\n",
      "  ago/RB\n",
      "  ./.)\n"
     ]
    }
   ],
   "source": [
    "#Chunk\n",
    "pattern = 'NP: {<DT>?<JJ>*<NN>}'\n",
    "cp = nltk.RegexpParser(pattern)\n",
    "cs = cp.parse(sent)\n",
    "print(cs)"
   ]
  },
  {
   "cell_type": "code",
   "execution_count": 26,
   "id": "8108d3d2",
   "metadata": {},
   "outputs": [
    {
     "name": "stdout",
     "output_type": "stream",
     "text": [
      "[('They', 'PRP', 'O'),\n",
      " (\"'ve\", 'VBP', 'O'),\n",
      " ('commented', 'VBN', 'O'),\n",
      " ('on', 'IN', 'O'),\n",
      " ('how', 'WRB', 'O'),\n",
      " ('easy', 'JJ', 'O'),\n",
      " ('it', 'PRP', 'O'),\n",
      " ('is', 'VBZ', 'O'),\n",
      " ('to', 'TO', 'O'),\n",
      " ('understand', 'VB', 'O'),\n",
      " ('sentence', 'NN', 'B-NP'),\n",
      " ('structure', 'NN', 'B-NP'),\n",
      " ('and', 'CC', 'O'),\n",
      " ('write', 'VB', 'O'),\n",
      " ('paragraphs', 'NN', 'B-NP'),\n",
      " ('because', 'IN', 'O'),\n",
      " ('of', 'IN', 'O'),\n",
      " ('the', 'DT', 'O'),\n",
      " ('lessons', 'NNS', 'O'),\n",
      " ('.', '.', 'O'),\n",
      " ('They', 'PRP', 'O'),\n",
      " ('are', 'VBP', 'O'),\n",
      " ('now', 'RB', 'O'),\n",
      " ('eager', 'JJ', 'O'),\n",
      " ('to', 'TO', 'O'),\n",
      " ('write', 'VB', 'O'),\n",
      " ('now', 'RB', 'O'),\n",
      " ('vs.', 'IN', 'O'),\n",
      " ('the', 'DT', 'O'),\n",
      " ('groans', 'NNS', 'O'),\n",
      " ('and', 'CC', 'O'),\n",
      " ('dread', 'NN', 'B-NP'),\n",
      " ('from', 'IN', 'O'),\n",
      " ('just', 'RB', 'O'),\n",
      " ('a', 'DT', 'O'),\n",
      " ('few', 'JJ', 'O'),\n",
      " ('days', 'NNS', 'O'),\n",
      " ('ago', 'RB', 'O'),\n",
      " ('.', '.', 'O')]\n"
     ]
    }
   ],
   "source": [
    "from nltk.chunk import conlltags2tree, tree2conlltags\n",
    "from pprint import pprint\n",
    "iob_tagged = tree2conlltags(cs)\n",
    "pprint(iob_tagged)"
   ]
  },
  {
   "cell_type": "code",
   "execution_count": 28,
   "id": "cd06caf8",
   "metadata": {},
   "outputs": [],
   "source": [
    "#Named Entity recognition using spacy"
   ]
  },
  {
   "cell_type": "code",
   "execution_count": 29,
   "id": "ead3f890",
   "metadata": {},
   "outputs": [],
   "source": [
    "#Importing libraries\n",
    "import spacy"
   ]
  },
  {
   "cell_type": "code",
   "execution_count": 30,
   "id": "c585079b",
   "metadata": {},
   "outputs": [],
   "source": [
    "#load Spacy model\n",
    "nlp=spacy.load(\"en_core_web_sm\")"
   ]
  },
  {
   "cell_type": "code",
   "execution_count": 32,
   "id": "9bec1134",
   "metadata": {},
   "outputs": [],
   "source": [
    "sentence=\"They've commented on how easy it is to understand sentence structure and write paragraphs because of the lessons. They are now eager to write now vs. the groans and dread from just a few days ago.\""
   ]
  },
  {
   "cell_type": "code",
   "execution_count": 33,
   "id": "5e3dea5c",
   "metadata": {},
   "outputs": [],
   "source": [
    "doc=nlp(sentence)"
   ]
  },
  {
   "cell_type": "code",
   "execution_count": 34,
   "id": "49cd5053",
   "metadata": {},
   "outputs": [
    {
     "data": {
      "text/plain": [
       "They've commented on how easy it is to understand sentence structure and write paragraphs because of the lessons. They are now eager to write now vs. the groans and dread from just a few days ago."
      ]
     },
     "execution_count": 34,
     "metadata": {},
     "output_type": "execute_result"
    }
   ],
   "source": [
    "doc"
   ]
  },
  {
   "cell_type": "code",
   "execution_count": 36,
   "id": "3943c7c0",
   "metadata": {},
   "outputs": [
    {
     "name": "stdout",
     "output_type": "stream",
     "text": [
      "just a few days ago 176 195 DATE\n"
     ]
    }
   ],
   "source": [
    "#Print entities\n",
    "for ent in doc.ents:\n",
    "    print(ent.text,ent.start_char,ent.end_char,ent.label_)"
   ]
  },
  {
   "cell_type": "code",
   "execution_count": null,
   "id": "3ce4152b",
   "metadata": {},
   "outputs": [],
   "source": []
  }
 ],
 "metadata": {
  "kernelspec": {
   "display_name": "Python 3 (ipykernel)",
   "language": "python",
   "name": "python3"
  },
  "language_info": {
   "codemirror_mode": {
    "name": "ipython",
    "version": 3
   },
   "file_extension": ".py",
   "mimetype": "text/x-python",
   "name": "python",
   "nbconvert_exporter": "python",
   "pygments_lexer": "ipython3",
   "version": "3.9.12"
  }
 },
 "nbformat": 4,
 "nbformat_minor": 5
}
