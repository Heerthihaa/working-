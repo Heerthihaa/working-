{
 "cells": [
  {
   "cell_type": "code",
   "execution_count": 11,
   "id": "c01f8109",
   "metadata": {},
   "outputs": [
    {
     "name": "stderr",
     "output_type": "stream",
     "text": [
      "[nltk_data] Error loading punkt: <urlopen error [WinError 10060] A\n",
      "[nltk_data]     connection attempt failed because the connected party\n",
      "[nltk_data]     did not properly respond after a period of time, or\n",
      "[nltk_data]     established connection failed because connected host\n",
      "[nltk_data]     has failed to respond>\n"
     ]
    },
    {
     "data": {
      "text/plain": [
       "False"
      ]
     },
     "execution_count": 11,
     "metadata": {},
     "output_type": "execute_result"
    }
   ],
   "source": [
    "import nltk\n",
    "nltk.download('punkt')"
   ]
  },
  {
   "cell_type": "code",
   "execution_count": 12,
   "id": "9509eadd",
   "metadata": {},
   "outputs": [],
   "source": [
    "from nltk.stem import PorterStemmer\n",
    "from nltk.stem import LancasterStemmer\n",
    "from nltk.stem import RegexpStemmer\n",
    "from nltk.stem import SnowballStemmer "
   ]
  },
  {
   "cell_type": "code",
   "execution_count": 13,
   "id": "bb37e96c",
   "metadata": {},
   "outputs": [],
   "source": [
    "words=['dies','mules','died','agreed','humbled','sized','meeting','traditional','reference','generously']"
   ]
  },
  {
   "cell_type": "code",
   "execution_count": 14,
   "id": "28ec13fb",
   "metadata": {},
   "outputs": [],
   "source": [
    "stemmer=PorterStemmer()"
   ]
  },
  {
   "cell_type": "code",
   "execution_count": 15,
   "id": "af8c8bee",
   "metadata": {},
   "outputs": [
    {
     "name": "stdout",
     "output_type": "stream",
     "text": [
      "die\n",
      "mule\n",
      "die\n",
      "agre\n",
      "humbl\n",
      "size\n",
      "meet\n",
      "tradit\n",
      "refer\n",
      "gener\n"
     ]
    }
   ],
   "source": [
    "for a in words:\n",
    "    print(stemmer.stem(a))"
   ]
  },
  {
   "cell_type": "code",
   "execution_count": 16,
   "id": "8708422e",
   "metadata": {},
   "outputs": [],
   "source": [
    "stemmer1=LancasterStemmer()"
   ]
  },
  {
   "cell_type": "code",
   "execution_count": 17,
   "id": "9991b1e8",
   "metadata": {},
   "outputs": [
    {
     "name": "stdout",
     "output_type": "stream",
     "text": [
      "die\n",
      "mul\n",
      "died\n",
      "agree\n",
      "humbl\n",
      "siz\n",
      "meet\n",
      "tradit\n",
      "ref\n",
      "gen\n"
     ]
    }
   ],
   "source": [
    "for b in words:\n",
    "    print(stemmer1.stem(b))"
   ]
  },
  {
   "cell_type": "code",
   "execution_count": 18,
   "id": "c506cceb",
   "metadata": {},
   "outputs": [],
   "source": [
    "#SnowBallStem\n",
    "stemmer2=SnowballStemmer(language='english')"
   ]
  },
  {
   "cell_type": "code",
   "execution_count": 19,
   "id": "2b11ade2",
   "metadata": {},
   "outputs": [
    {
     "name": "stdout",
     "output_type": "stream",
     "text": [
      "die\n",
      "mule\n",
      "die\n",
      "agre\n",
      "humbl\n",
      "size\n",
      "meet\n",
      "tradit\n",
      "refer\n",
      "generous\n"
     ]
    }
   ],
   "source": [
    "for c in words:\n",
    "    print(stemmer2.stem(c))"
   ]
  },
  {
   "cell_type": "code",
   "execution_count": 20,
   "id": "b53ed95f",
   "metadata": {},
   "outputs": [
    {
     "name": "stdout",
     "output_type": "stream",
     "text": [
      "dies ---> die\n",
      "mules ---> mule\n",
      "died ---> died\n",
      "agreed ---> agreed\n",
      "humbled ---> humbled\n",
      "sized ---> sized\n",
      "meeting ---> meet\n",
      "traditional ---> traditional\n",
      "reference ---> referenc\n",
      "generously ---> generously\n"
     ]
    }
   ],
   "source": [
    "#RegexpSteemer\n",
    "from nltk.stem import RegexpStemmer\n",
    "regexp = RegexpStemmer('ing$|s$|e$|able$', min=4)\n",
    "for d in words:\n",
    "    print(d,\"--->\",regexp.stem(d))"
   ]
  },
  {
   "cell_type": "code",
   "execution_count": null,
   "id": "0967257f",
   "metadata": {},
   "outputs": [],
   "source": []
  },
  {
   "cell_type": "code",
   "execution_count": null,
   "id": "48bd801a",
   "metadata": {},
   "outputs": [],
   "source": []
  },
  {
   "cell_type": "code",
   "execution_count": null,
   "id": "b9c7d652",
   "metadata": {},
   "outputs": [],
   "source": []
  }
 ],
 "metadata": {
  "kernelspec": {
   "display_name": "Python 3 (ipykernel)",
   "language": "python",
   "name": "python3"
  },
  "language_info": {
   "codemirror_mode": {
    "name": "ipython",
    "version": 3
   },
   "file_extension": ".py",
   "mimetype": "text/x-python",
   "name": "python",
   "nbconvert_exporter": "python",
   "pygments_lexer": "ipython3",
   "version": "3.9.12"
  }
 },
 "nbformat": 4,
 "nbformat_minor": 5
}
